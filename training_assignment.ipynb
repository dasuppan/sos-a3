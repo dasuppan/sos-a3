{
 "cells": [
  {
   "cell_type": "code",
   "execution_count": 1,
   "id": "28820aea",
   "metadata": {},
   "outputs": [],
   "source": [
    "# Read data from Java SOMToolbox\n",
    "from SOMToolBox_Parse import SOMToolBox_Parse\n",
    "dataset = \"chainlink\" # chainlink, 10clusters\n",
    "idata   = SOMToolBox_Parse(f\"datasets/{dataset}/{dataset}.vec\").read_weight_file()\n",
    "weights = SOMToolBox_Parse(f\"datasets/{dataset}/{dataset}.wgt\").read_weight_file()\n",
    "classes = SOMToolBox_Parse(f\"datasets/{dataset}/{dataset}.cls\").read_weight_file()"
   ]
  },
  {
   "cell_type": "code",
   "execution_count": null,
   "id": "99c6677b",
   "metadata": {},
   "outputs": [],
   "source": [
    "# Visualization by PySOMVis\n",
    "from pysomvis import PySOMVis\n",
    "\n",
    "vis = PySOMVis(weights=weights['arr'], m=weights['ydim'],n=weights['xdim'],\n",
    "                dimension=weights['vec_dim'], input_data=idata['arr'],\n",
    "                classes=classes['arr'][:,1], component_names=classes['classes_names'])\n",
    "vis._mainview"
   ]
  },
  {
   "cell_type": "code",
   "execution_count": null,
   "id": "5c6d9d9e",
   "metadata": {},
   "outputs": [],
   "source": [
    "\n",
    "from SOMToolBox_Parse import SOMToolBox_Parse\n",
    "dataset = \"chainlink\" # chainlink, 10clusters\n",
    "idata   = SOMToolBox_Parse(f\"datasets/{dataset}/{dataset}.vec\").read_weight_file()\n",
    "weights = SOMToolBox_Parse(f\"datasets/{dataset}/{dataset}.wgt\").read_weight_file()\n",
    "classes = SOMToolBox_Parse(f\"datasets/{dataset}/{dataset}.cls\").read_weight_file()\n",
    "from pysomvis import PySOMVis\n",
    "from minisom import MiniSom\n",
    "import pickle\n",
    "\n",
    "if dataset == \"10clusters\":\n",
    "    dimensions = 10\n",
    "else:\n",
    "    dimensions = 3\n",
    "som = MiniSom(100, 60, dimensions, learning_rate=0.7)\n",
    "som.train(idata['arr'], 600000)\n",
    "som.get_weights()\n",
    "with open(f'datasets/{dataset}/som_lr0_7_600000.p', 'wb') as outfile:\n",
    "    pickle.dump(som, outfile)"
   ]
  }
 ],
 "metadata": {
  "kernelspec": {
   "display_name": "Python 3",
   "language": "python",
   "name": "python3"
  },
  "language_info": {
   "codemirror_mode": {
    "name": "ipython",
    "version": 3
   },
   "file_extension": ".py",
   "mimetype": "text/x-python",
   "name": "python",
   "nbconvert_exporter": "python",
   "pygments_lexer": "ipython3",
   "version": "3.9.11"
  },
  "vscode": {
   "interpreter": {
    "hash": "085c51388782ab7dcc7b32a500f9634129d1cddb82cd7a37058a5984251a0bc1"
   }
  }
 },
 "nbformat": 4,
 "nbformat_minor": 5
}
