{
 "cells": [
  {
   "cell_type": "code",
   "execution_count": 177,
   "id": "28820aea",
   "metadata": {},
   "outputs": [],
   "source": [
    "# Read data from Java SOMToolbox\n",
    "from SOMToolBox_Parse import SOMToolBox_Parse\n",
    "dataset = \"chainlink\" # chainlink, 10clusters\n",
    "idata   = SOMToolBox_Parse(f\"datasets/{dataset}/{dataset}.vec\").read_weight_file()\n",
    "weights = SOMToolBox_Parse(f\"datasets/{dataset}/{dataset}.wgt\").read_weight_file()\n",
    "classes = SOMToolBox_Parse(f\"datasets/{dataset}/{dataset}.cls\").read_weight_file()"
   ]
  },
  {
   "cell_type": "code",
   "execution_count": 178,
   "id": "99c6677b",
   "metadata": {},
   "outputs": [
    {
     "data": {},
     "metadata": {},
     "output_type": "display_data"
    },
    {
     "data": {},
     "metadata": {},
     "output_type": "display_data"
    },
    {
     "data": {
      "application/vnd.holoviews_exec.v0+json": "",
      "text/html": [
       "<div id='38637'>\n",
       "\n",
       "\n",
       "\n",
       "\n",
       "\n",
       "  <div class=\"bk-root\" id=\"6c2a8854-c54a-4810-a2d5-4772431ebe92\" data-root-id=\"38637\"></div>\n",
       "</div>\n",
       "<script type=\"application/javascript\">(function(root) {\n",
       "  function embed_document(root) {\n",
       "    var docs_json = {\"0ca6fae0-b7e8-4636-ab8f-d0d3d9b24977\":{\"defs\":[{\"extends\":null,\"module\":null,\"name\":\"ReactiveHTML1\",\"overrides\":[],\"properties\":[]},{\"extends\":null,\"module\":null,\"name\":\"FlexBox1\",\"overrides\":[],\"properties\":[{\"default\":\"flex-start\",\"kind\":null,\"name\":\"align_content\"},{\"default\":\"flex-start\",\"kind\":null,\"name\":\"align_items\"},{\"default\":\"row\",\"kind\":null,\"name\":\"flex_direction\"},{\"default\":\"wrap\",\"kind\":null,\"name\":\"flex_wrap\"},{\"default\":\"flex-start\",\"kind\":null,\"name\":\"justify_content\"}]},{\"extends\":null,\"module\":null,\"name\":\"GridStack1\",\"overrides\":[],\"properties\":[{\"default\":\"warn\",\"kind\":null,\"name\":\"mode\"},{\"default\":null,\"kind\":null,\"name\":\"ncols\"},{\"default\":null,\"kind\":null,\"name\":\"nrows\"},{\"default\":true,\"kind\":null,\"name\":\"allow_resize\"},{\"default\":true,\"kind\":null,\"name\":\"allow_drag\"},{\"default\":[],\"kind\":null,\"name\":\"state\"}]},{\"extends\":null,\"module\":null,\"name\":\"click1\",\"overrides\":[],\"properties\":[{\"default\":\"\",\"kind\":null,\"name\":\"terminal_output\"},{\"default\":\"\",\"kind\":null,\"name\":\"debug_name\"},{\"default\":0,\"kind\":null,\"name\":\"clears\"}]},{\"extends\":null,\"module\":null,\"name\":\"TemplateActions1\",\"overrides\":[],\"properties\":[{\"default\":0,\"kind\":null,\"name\":\"open_modal\"},{\"default\":0,\"kind\":null,\"name\":\"close_modal\"}]},{\"extends\":null,\"module\":null,\"name\":\"MaterialTemplateActions1\",\"overrides\":[],\"properties\":[{\"default\":0,\"kind\":null,\"name\":\"open_modal\"},{\"default\":0,\"kind\":null,\"name\":\"close_modal\"}]}],\"roots\":{\"references\":[{\"attributes\":{\"children\":[{\"id\":\"38650\"},{\"id\":\"38846\"}],\"margin\":[0,0,0,0],\"name\":\"Row82672\"},\"id\":\"38649\",\"type\":\"Row\"},{\"attributes\":{\"children\":[{\"id\":\"38653\"}],\"margin\":[0,0,0,0],\"name\":\"Column82669\"},\"id\":\"38650\",\"type\":\"Column\"},{\"attributes\":{\"axis\":{\"id\":\"38662\"},\"coordinates\":null,\"grid_line_color\":null,\"group\":null,\"ticker\":null},\"id\":\"38665\",\"type\":\"Grid\"},{\"attributes\":{\"margin\":[5,10,5,10],\"name\":\"\",\"text\":\"<b></b>\"},\"id\":\"38641\",\"type\":\"Div\"},{\"attributes\":{\"children\":[{\"id\":\"38849\"},{\"id\":\"38850\"}],\"margin\":[5,5,5,5],\"min_width\":300,\"name\":\"Component Planes\",\"width\":300},\"id\":\"38848\",\"type\":\"Column\"},{\"attributes\":{},\"id\":\"38684\",\"type\":\"AllLabels\"},{\"attributes\":{\"line_alpha\":{\"field\":\"alpha\"},\"line_cap\":{\"value\":\"butt\"},\"line_color\":{\"value\":\"red\"},\"line_dash\":{\"value\":[]},\"line_dash_offset\":{\"value\":0},\"line_join\":{\"value\":\"bevel\"},\"line_width\":{\"value\":2},\"x0\":{\"field\":\"x0\"},\"x1\":{\"field\":\"x1\"},\"y0\":{\"field\":\"y0\"},\"y1\":{\"field\":\"y1\"}},\"id\":\"38710\",\"type\":\"Segment\"},{\"attributes\":{\"coordinates\":null,\"data_source\":{\"id\":\"38702\"},\"glyph\":{\"id\":\"38705\"},\"group\":null,\"hover_glyph\":null,\"muted_glyph\":{\"id\":\"38707\"},\"nonselection_glyph\":{\"id\":\"38706\"},\"selection_glyph\":{\"id\":\"38710\"},\"view\":{\"id\":\"38709\"}},\"id\":\"38708\",\"type\":\"GlyphRenderer\"},{\"attributes\":{},\"id\":\"38671\",\"type\":\"PanTool\"},{\"attributes\":{\"margin\":[5,10,5,10],\"name\":\"\",\"text\":\"<b>Component Planes</b>\"},\"id\":\"38849\",\"type\":\"Div\"},{\"attributes\":{\"source\":{\"id\":\"38702\"}},\"id\":\"38709\",\"type\":\"CDSView\"},{\"attributes\":{\"margin\":[5,10,5,10],\"options\":[[\"0\",\"Component Planes\"],[\"1\",\"Hit Histogram\"],[\"2\",\"U-matrix\"],[\"3\",\"D-Matrix\"],[\"4\",\"P-matrix & U*-matrix\"],[\"5\",\"Smoothed Data Histograms\"],[\"6\",\"Pie Chart\"],[\"7\",\"Neighbourhood Graph\"],[\"8\",\"Chessboard\"],[\"9\",\"Clustering\"],[\"10\",\"Metro Map\"],[\"11\",\"Quantization Error\"],[\"12\",\"SOMStreamVis\"],[\"13\",\"Sky Metaphor\"],[\"14\",\"Topographic error\"],[\"15\",\"Intrinsic distance\"],[\"16\",\"Activity Histogram\"],[\"17\",\"Minimum Spanning Tree\"],[\"18\",\"Cluster Connection\"],[\"19\",\"Mnemonic SOM\"]],\"value\":\"0\"},\"id\":\"38642\",\"type\":\"panel.models.widgets.CustomSelect\"},{\"attributes\":{\"axis_label\":\"y\",\"coordinates\":null,\"formatter\":{\"id\":\"38686\"},\"group\":null,\"major_label_policy\":{\"id\":\"38687\"},\"ticker\":{\"id\":\"38667\"}},\"id\":\"38666\",\"type\":\"LinearAxis\"},{\"attributes\":{\"axis\":{\"id\":\"38666\"},\"coordinates\":null,\"dimension\":1,\"grid_line_color\":null,\"group\":null,\"ticker\":null},\"id\":\"38669\",\"type\":\"Grid\"},{\"attributes\":{},\"id\":\"38667\",\"type\":\"BasicTicker\"},{\"attributes\":{\"end\":2,\"margin\":[5,10,5,10],\"start\":0,\"title\":\"1\",\"value\":0},\"id\":\"38850\",\"type\":\"Slider\"},{\"attributes\":{},\"id\":\"38729\",\"type\":\"UnionRenderers\"},{\"attributes\":{\"coordinates\":null,\"data_source\":{\"id\":\"38711\"},\"glyph\":{\"id\":\"38714\"},\"group\":null,\"hover_glyph\":null,\"muted_glyph\":{\"id\":\"38716\"},\"nonselection_glyph\":{\"id\":\"38715\"},\"selection_glyph\":{\"id\":\"38719\"},\"view\":{\"id\":\"38718\"}},\"id\":\"38717\",\"type\":\"GlyphRenderer\"},{\"attributes\":{\"margin\":[5,5,5,5],\"name\":\"Str82692\",\"text\":\"&lt;pre&gt;Slicing weight vector according its components.&lt;/pre&gt;\"},\"id\":\"38851\",\"type\":\"panel.models.markup.HTML\"},{\"attributes\":{},\"id\":\"38672\",\"type\":\"WheelZoomTool\"},{\"attributes\":{},\"id\":\"38670\",\"type\":\"SaveTool\"},{\"attributes\":{\"margin\":[5,10,5,10],\"options\":[[\"PiYG\",\"PiYG\"],[\"PRGn\",\"PRGn\"],[\"BrBG\",\"BrBG\"],[\"PuOr\",\"PuOr\"],[\"RdGy\",\"RdGy\"],[\"RdBu\",\"RdBu\"],[\"RdYlBu\",\"RdYlBu\"],[\"RdYlGn\",\"RdYlGn\"],[\"Spectral\",\"Spectral\"],[\"coolwarm\",\"coolwarm\"],[\"bwr\",\"bwr\"],[\"seismic\",\"seismic\"],[\"gist_gray\",\"gist_gray\"],[\"bone\",\"bone\"],[\"pink\",\"pink\"],[\"spring\",\"spring\"],[\"summer\",\"summer\"],[\"autumn\",\"autumn\"],[\"winter\",\"winter\"],[\"cool\",\"cool\"],[\"Wistia\",\"Wistia\"],[\"hot\",\"hot\"],[\"afmhot\",\"afmhot\"],[\"gist_heat\",\"gist_heat\"],[\"copper\",\"copper\"],[\"Greys\",\"Greys\"],[\"Purples\",\"Purples\"],[\"Blues\",\"Blues\"],[\"Greens\",\"Greens\"],[\"Oranges\",\"Oranges\"],[\"Reds\",\"Reds\"],[\"YlOrBr\",\"YlOrBr\"],[\"YlOrRd\",\"YlOrRd\"],[\"OrRd\",\"OrRd\"],[\"PuRd\",\"PuRd\"],[\"RdPu\",\"RdPu\"],[\"BuPu\",\"BuPu\"],[\"GnBu\",\"GnBu\"],[\"PuBu\",\"PuBu\"],[\"YlGnBu\",\"YlGnBu\"],[\"PuBuGn\",\"PuBuGn\"],[\"BuGn\",\"BuGn\"],[\"YlGn\",\"YlGn\"],[\"viridis\",\"viridis\"],[\"plasma\",\"plasma\"],[\"inferno\",\"inferno\"],[\"magma\",\"magma\"],[\"cividis\",\"cividis\"],[\"twilight\",\"twilight\"],[\"twilight_shifted\",\"twilight_shifted\"],[\"hsv\",\"hsv\"],[\"Pastel1\",\"Pastel1\"],[\"Paired\",\"Paired\"],[\"Accent\",\"Accent\"],[\"Dark2\",\"Dark2\"],[\"Set1\",\"Set1\"],[\"Set2\",\"Set2\"],[\"Set3\",\"Set3\"],[\"tab10\",\"tab10\"],[\"tab20\",\"tab20\"],[\"tab20b\",\"tab20b\"],[\"tab20c\",\"tab20c\"],[\"flag\",\"flag\"],[\"prism\",\"prism\"],[\"ocean\",\"ocean\"],[\"gist_earth\",\"gist_earth\"],[\"terrain\",\"terrain\"],[\"gist_stern\",\"gist_stern\"],[\"gnuplot\",\"gnuplot\"],[\"gnuplot2\",\"gnuplot2\"],[\"CMRmap\",\"CMRmap\"],[\"cubehelix\",\"cubehelix\"],[\"brg\",\"brg\"],[\"gist_rainbow\",\"gist_rainbow\"],[\"rainbow\",\"rainbow\"],[\"jet\",\"jet\"],[\"turbo\",\"turbo\"],[\"nipy_spectral\",\"nipy_spectral\"],[\"gist_ncar\",\"gist_ncar\"],[\"glasbey_dark\",\"glasbey_dark\"]],\"value\":\"jet\"},\"id\":\"38643\",\"type\":\"panel.models.widgets.CustomSelect\"},{\"attributes\":{\"overlay\":{\"id\":\"38675\"}},\"id\":\"38673\",\"type\":\"BoxZoomTool\"},{\"attributes\":{},\"id\":\"38674\",\"type\":\"ResetTool\"},{\"attributes\":{\"margin\":[0,0,0,0],\"name\":\"Row82671\"},\"id\":\"38853\",\"type\":\"Row\"},{\"attributes\":{\"icon\":null,\"label\":\"\\u21b7\",\"margin\":[5,10,5,10],\"subscribed_events\":[\"button_click\"]},\"id\":\"38645\",\"type\":\"Button\"},{\"attributes\":{\"icon\":null,\"label\":\"\\u21b6\",\"margin\":[5,10,5,10],\"subscribed_events\":[\"button_click\"]},\"id\":\"38644\",\"type\":\"Button\"},{\"attributes\":{\"fill_color\":{\"value\":\"red\"},\"hatch_color\":{\"value\":\"red\"},\"line_color\":{\"value\":\"red\"},\"marker\":{\"value\":\"asterisk\"},\"size\":{\"value\":2},\"x\":{\"field\":\"x\"},\"y\":{\"field\":\"y\"}},\"id\":\"38714\",\"type\":\"Scatter\"},{\"attributes\":{\"bottom_units\":\"screen\",\"coordinates\":null,\"fill_alpha\":0.5,\"fill_color\":\"lightgrey\",\"group\":null,\"left_units\":\"screen\",\"level\":\"overlay\",\"line_alpha\":1.0,\"line_color\":\"black\",\"line_dash\":[4,4],\"line_width\":2,\"right_units\":\"screen\",\"syncable\":false,\"top_units\":\"screen\"},\"id\":\"38675\",\"type\":\"BoxAnnotation\"},{\"attributes\":{},\"id\":\"38712\",\"type\":\"Selection\"},{\"attributes\":{\"icon\":null,\"label\":\"\\u2194\",\"margin\":[5,10,5,10],\"subscribed_events\":[\"button_click\"]},\"id\":\"38646\",\"type\":\"Button\"},{\"attributes\":{},\"id\":\"38683\",\"type\":\"BasicTickFormatter\"},{\"attributes\":{\"icon\":null,\"label\":\"\\u2195\",\"margin\":[5,10,5,10],\"subscribed_events\":[\"button_click\"]},\"id\":\"38647\",\"type\":\"Button\"},{\"attributes\":{},\"id\":\"38731\",\"type\":\"UnionRenderers\"},{\"attributes\":{\"labels\":[\"interpolation\"],\"margin\":[5,10,5,10]},\"id\":\"38648\",\"type\":\"CheckboxGroup\"},{\"attributes\":{\"tools\":[{\"id\":\"38670\"},{\"id\":\"38671\"},{\"id\":\"38672\"},{\"id\":\"38673\"},{\"id\":\"38674\"}]},\"id\":\"38676\",\"type\":\"Toolbar\"},{\"attributes\":{\"fill_alpha\":{\"value\":0.1},\"fill_color\":{\"value\":\"red\"},\"hatch_alpha\":{\"value\":0.1},\"hatch_color\":{\"value\":\"red\"},\"line_alpha\":{\"value\":0.1},\"line_color\":{\"value\":\"red\"},\"marker\":{\"value\":\"asterisk\"},\"size\":{\"value\":2},\"x\":{\"field\":\"x\"},\"y\":{\"field\":\"y\"}},\"id\":\"38715\",\"type\":\"Scatter\"},{\"attributes\":{\"data\":{\"x0\":{\"__ndarray__\":\"\",\"dtype\":\"float64\",\"order\":\"little\",\"shape\":[0]},\"x1\":{\"__ndarray__\":\"\",\"dtype\":\"float64\",\"order\":\"little\",\"shape\":[0]},\"y0\":{\"__ndarray__\":\"\",\"dtype\":\"float64\",\"order\":\"little\",\"shape\":[0]},\"y1\":{\"__ndarray__\":\"\",\"dtype\":\"float64\",\"order\":\"little\",\"shape\":[0]}},\"selected\":{\"id\":\"38703\"},\"selection_policy\":{\"id\":\"38729\"}},\"id\":\"38702\",\"type\":\"ColumnDataSource\"},{\"attributes\":{\"source\":{\"id\":\"38711\"}},\"id\":\"38718\",\"type\":\"CDSView\"},{\"attributes\":{\"children\":[{\"id\":\"38848\"},{\"id\":\"38851\"}],\"margin\":[0,0,0,0],\"name\":\"\"},\"id\":\"38847\",\"type\":\"Column\"},{\"attributes\":{\"fill_alpha\":{\"value\":0.2},\"fill_color\":{\"value\":\"red\"},\"hatch_alpha\":{\"value\":0.2},\"hatch_color\":{\"value\":\"red\"},\"line_alpha\":{\"value\":0.2},\"line_color\":{\"value\":\"red\"},\"marker\":{\"value\":\"asterisk\"},\"size\":{\"value\":2},\"x\":{\"field\":\"x\"},\"y\":{\"field\":\"y\"}},\"id\":\"38716\",\"type\":\"Scatter\"},{\"attributes\":{\"axis_label\":\"x\",\"coordinates\":null,\"formatter\":{\"id\":\"38683\"},\"group\":null,\"major_label_policy\":{\"id\":\"38684\"},\"ticker\":{\"id\":\"38663\"}},\"id\":\"38662\",\"type\":\"LinearAxis\"},{\"attributes\":{},\"id\":\"38727\",\"type\":\"UnionRenderers\"},{\"attributes\":{\"angle\":{\"value\":0.0},\"fill_alpha\":{\"value\":1.0},\"fill_color\":{\"value\":\"red\"},\"hatch_alpha\":{\"value\":1.0},\"hatch_color\":{\"value\":\"red\"},\"hatch_scale\":{\"value\":12.0},\"hatch_weight\":{\"value\":1.0},\"line_alpha\":{\"value\":1.0},\"line_cap\":{\"value\":\"butt\"},\"line_color\":{\"value\":\"red\"},\"line_dash\":{\"value\":[]},\"line_dash_offset\":{\"value\":0},\"line_join\":{\"value\":\"bevel\"},\"line_width\":{\"value\":1},\"marker\":{\"value\":\"asterisk\"},\"size\":{\"value\":2},\"x\":{\"field\":\"x\"},\"y\":{\"field\":\"y\"}},\"id\":\"38719\",\"type\":\"Scatter\"},{\"attributes\":{},\"id\":\"38687\",\"type\":\"AllLabels\"},{\"attributes\":{\"color_mapper\":{\"id\":\"38688\"},\"dh\":{\"field\":\"dh\"},\"dw\":{\"field\":\"dw\"},\"global_alpha\":{\"value\":1.0},\"image\":{\"field\":\"image\"},\"x\":{\"field\":\"x\"},\"y\":{\"field\":\"y\"}},\"id\":\"38700\",\"type\":\"Image\"},{\"attributes\":{\"end\":0.5,\"reset_end\":0.5,\"reset_start\":-0.5,\"start\":-0.5,\"tags\":[[[\"y\",\"y\",null]]]},\"id\":\"38652\",\"type\":\"Range1d\"},{\"attributes\":{\"color_mapper\":{\"id\":\"38688\"},\"dh\":{\"field\":\"dh\"},\"dw\":{\"field\":\"dw\"},\"global_alpha\":{\"value\":0.2},\"image\":{\"field\":\"image\"},\"x\":{\"field\":\"x\"},\"y\":{\"field\":\"y\"}},\"id\":\"38696\",\"type\":\"Image\"},{\"attributes\":{\"line_alpha\":{\"field\":\"alpha\"},\"line_color\":{\"value\":\"red\"},\"line_width\":{\"value\":2},\"x0\":{\"field\":\"x0\"},\"x1\":{\"field\":\"x1\"},\"y0\":{\"field\":\"y0\"},\"y1\":{\"field\":\"y1\"}},\"id\":\"38707\",\"type\":\"Segment\"},{\"attributes\":{\"data\":{\"dh\":[1.0],\"dw\":[1.0],\"image\":[{\"__ndarray__\":\"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\",\"dtype\":\"float64\",\"order\":\"little\",\"shape\":[18,12]}],\"x\":[-0.5],\"y\":[-0.5]},\"selected\":{\"id\":\"38690\"},\"selection_policy\":{\"id\":\"38727\"}},\"id\":\"38689\",\"type\":\"ColumnDataSource\"},{\"attributes\":{\"line_alpha\":{\"field\":\"alpha\"},\"line_color\":{\"value\":\"red\"},\"line_width\":{\"value\":2},\"x0\":{\"field\":\"x0\"},\"x1\":{\"field\":\"x1\"},\"y0\":{\"field\":\"y0\"},\"y1\":{\"field\":\"y1\"}},\"id\":\"38706\",\"type\":\"Segment\"},{\"attributes\":{\"data\":{\"x\":{\"__ndarray__\":\"\",\"dtype\":\"float64\",\"order\":\"little\",\"shape\":[0]},\"y\":{\"__ndarray__\":\"\",\"dtype\":\"float64\",\"order\":\"little\",\"shape\":[0]}},\"selected\":{\"id\":\"38712\"},\"selection_policy\":{\"id\":\"38731\"}},\"id\":\"38711\",\"type\":\"ColumnDataSource\"},{\"attributes\":{\"end\":0.75,\"reset_end\":0.75,\"reset_start\":-0.75,\"start\":-0.75,\"tags\":[[[\"x\",\"x\",null]]]},\"id\":\"38651\",\"type\":\"Range1d\"},{\"attributes\":{\"color_mapper\":{\"id\":\"38688\"},\"dh\":{\"field\":\"dh\"},\"dw\":{\"field\":\"dw\"},\"global_alpha\":{\"value\":0.1},\"image\":{\"field\":\"image\"},\"x\":{\"field\":\"x\"},\"y\":{\"field\":\"y\"}},\"id\":\"38694\",\"type\":\"Image\"},{\"attributes\":{},\"id\":\"38690\",\"type\":\"Selection\"},{\"attributes\":{\"children\":[{\"id\":\"38847\"}],\"margin\":[0,0,0,0],\"name\":\"Row82670\"},\"id\":\"38846\",\"type\":\"Row\"},{\"attributes\":{\"client_comm_id\":\"b16f46d777f04fcfbdf2fc55e96d9672\",\"comm_id\":\"2dc7ce7f6f4e4f43b580bf3ff954af84\",\"plot_id\":\"38637\"},\"id\":\"38896\",\"type\":\"panel.models.comm_manager.CommManager\"},{\"attributes\":{},\"id\":\"38686\",\"type\":\"BasicTickFormatter\"},{\"attributes\":{\"coordinates\":null,\"group\":null,\"text_color\":\"black\",\"text_font_size\":\"12pt\"},\"id\":\"38654\",\"type\":\"Title\"},{\"attributes\":{\"color_mapper\":{\"id\":\"38688\"},\"dh\":{\"field\":\"dh\"},\"dw\":{\"field\":\"dw\"},\"image\":{\"field\":\"image\"},\"x\":{\"field\":\"x\"},\"y\":{\"field\":\"y\"}},\"id\":\"38692\",\"type\":\"Image\"},{\"attributes\":{},\"id\":\"38703\",\"type\":\"Selection\"},{\"attributes\":{\"coordinates\":null,\"data_source\":{\"id\":\"38689\"},\"glyph\":{\"id\":\"38692\"},\"group\":null,\"hover_glyph\":null,\"muted_glyph\":{\"id\":\"38696\"},\"nonselection_glyph\":{\"id\":\"38694\"},\"selection_glyph\":{\"id\":\"38700\"},\"view\":{\"id\":\"38699\"}},\"id\":\"38698\",\"type\":\"GlyphRenderer\"},{\"attributes\":{},\"id\":\"38658\",\"type\":\"LinearScale\"},{\"attributes\":{\"source\":{\"id\":\"38689\"}},\"id\":\"38699\",\"type\":\"CDSView\"},{\"attributes\":{\"children\":[{\"id\":\"38638\"},{\"id\":\"38852\"}],\"margin\":[0,0,0,0],\"name\":\"Column82675\"},\"id\":\"38637\",\"type\":\"Column\"},{\"attributes\":{\"children\":[{\"id\":\"38853\"}],\"margin\":[0,0,0,0],\"name\":\"Column82674\"},\"id\":\"38852\",\"type\":\"Column\"},{\"attributes\":{\"below\":[{\"id\":\"38662\"}],\"center\":[{\"id\":\"38665\"},{\"id\":\"38669\"}],\"height\":500,\"left\":[{\"id\":\"38666\"}],\"margin\":[5,5,5,5],\"min_border_bottom\":10,\"min_border_left\":10,\"min_border_right\":10,\"min_border_top\":10,\"renderers\":[{\"id\":\"38698\"},{\"id\":\"38708\"},{\"id\":\"38717\"}],\"sizing_mode\":\"fixed\",\"title\":{\"id\":\"38654\"},\"toolbar\":{\"id\":\"38676\"},\"width\":500,\"x_range\":{\"id\":\"38651\"},\"x_scale\":{\"id\":\"38658\"},\"y_range\":{\"id\":\"38652\"},\"y_scale\":{\"id\":\"38660\"}},\"id\":\"38653\",\"subtype\":\"Figure\",\"type\":\"Plot\"},{\"attributes\":{\"children\":[{\"id\":\"38639\"},{\"id\":\"38649\"}],\"margin\":[0,0,0,0],\"name\":\"Column82673\"},\"id\":\"38638\",\"type\":\"Column\"},{\"attributes\":{},\"id\":\"38663\",\"type\":\"BasicTicker\"},{\"attributes\":{\"children\":[{\"id\":\"38640\"}],\"margin\":[0,0,0,0],\"name\":\"Column82638\"},\"id\":\"38639\",\"type\":\"Column\"},{\"attributes\":{},\"id\":\"38660\",\"type\":\"LinearScale\"},{\"attributes\":{\"high\":0.9637683878306773,\"low\":-0.9802095034022015,\"nan_color\":\"rgba(0, 0, 0, 0)\",\"palette\":[\"#00007f\",\"#000084\",\"#000088\",\"#00008d\",\"#000091\",\"#000096\",\"#00009a\",\"#00009f\",\"#0000a3\",\"#0000a8\",\"#0000ac\",\"#0000b1\",\"#0000b6\",\"#0000ba\",\"#0000bf\",\"#0000c3\",\"#0000c8\",\"#0000cc\",\"#0000d1\",\"#0000d5\",\"#0000da\",\"#0000de\",\"#0000e3\",\"#0000e8\",\"#0000ec\",\"#0000f1\",\"#0000f5\",\"#0000fa\",\"#0000fe\",\"#0000ff\",\"#0000ff\",\"#0000ff\",\"#0000ff\",\"#0004ff\",\"#0008ff\",\"#000cff\",\"#0010ff\",\"#0014ff\",\"#0018ff\",\"#001cff\",\"#0020ff\",\"#0024ff\",\"#0028ff\",\"#002cff\",\"#0030ff\",\"#0034ff\",\"#0038ff\",\"#003cff\",\"#0040ff\",\"#0044ff\",\"#0048ff\",\"#004cff\",\"#0050ff\",\"#0054ff\",\"#0058ff\",\"#005cff\",\"#0060ff\",\"#0064ff\",\"#0068ff\",\"#006cff\",\"#0070ff\",\"#0074ff\",\"#0078ff\",\"#007cff\",\"#0080ff\",\"#0084ff\",\"#0088ff\",\"#008cff\",\"#0090ff\",\"#0094ff\",\"#0098ff\",\"#009cff\",\"#00a0ff\",\"#00a4ff\",\"#00a8ff\",\"#00acff\",\"#00b0ff\",\"#00b4ff\",\"#00b8ff\",\"#00bcff\",\"#00c0ff\",\"#00c4ff\",\"#00c8ff\",\"#00ccff\",\"#00d0ff\",\"#00d4ff\",\"#00d8ff\",\"#00dcfe\",\"#00e0fa\",\"#00e4f7\",\"#02e8f4\",\"#05ecf1\",\"#08f0ed\",\"#0cf4ea\",\"#0ff8e7\",\"#12fce4\",\"#15ffe1\",\"#18ffdd\",\"#1cffda\",\"#1fffd7\",\"#22ffd4\",\"#25ffd0\",\"#29ffcd\",\"#2cffca\",\"#2fffc7\",\"#32ffc3\",\"#36ffc0\",\"#39ffbd\",\"#3cffba\",\"#3fffb7\",\"#42ffb3\",\"#46ffb0\",\"#49ffad\",\"#4cffaa\",\"#4fffa6\",\"#53ffa3\",\"#56ffa0\",\"#59ff9d\",\"#5cff9a\",\"#5fff96\",\"#63ff93\",\"#66ff90\",\"#69ff8d\",\"#6cff89\",\"#70ff86\",\"#73ff83\",\"#76ff80\",\"#79ff7d\",\"#7cff79\",\"#80ff76\",\"#83ff73\",\"#86ff70\",\"#89ff6c\",\"#8dff69\",\"#90ff66\",\"#93ff63\",\"#96ff5f\",\"#9aff5c\",\"#9dff59\",\"#a0ff56\",\"#a3ff53\",\"#a6ff4f\",\"#aaff4c\",\"#adff49\",\"#b0ff46\",\"#b3ff42\",\"#b7ff3f\",\"#baff3c\",\"#bdff39\",\"#c0ff36\",\"#c3ff32\",\"#c7ff2f\",\"#caff2c\",\"#cdff29\",\"#d0ff25\",\"#d4ff22\",\"#d7ff1f\",\"#daff1c\",\"#ddff18\",\"#e0ff15\",\"#e4ff12\",\"#e7ff0f\",\"#eaff0c\",\"#edff08\",\"#f1fc05\",\"#f4f802\",\"#f7f400\",\"#faf000\",\"#feed00\",\"#ffe900\",\"#ffe500\",\"#ffe200\",\"#ffde00\",\"#ffda00\",\"#ffd700\",\"#ffd300\",\"#ffcf00\",\"#ffcb00\",\"#ffc800\",\"#ffc400\",\"#ffc000\",\"#ffbd00\",\"#ffb900\",\"#ffb500\",\"#ffb100\",\"#ffae00\",\"#ffaa00\",\"#ffa600\",\"#ffa300\",\"#ff9f00\",\"#ff9b00\",\"#ff9800\",\"#ff9400\",\"#ff9000\",\"#ff8c00\",\"#ff8900\",\"#ff8500\",\"#ff8100\",\"#ff7e00\",\"#ff7a00\",\"#ff7600\",\"#ff7300\",\"#ff6f00\",\"#ff6b00\",\"#ff6700\",\"#ff6400\",\"#ff6000\",\"#ff5c00\",\"#ff5900\",\"#ff5500\",\"#ff5100\",\"#ff4d00\",\"#ff4a00\",\"#ff4600\",\"#ff4200\",\"#ff3f00\",\"#ff3b00\",\"#ff3700\",\"#ff3400\",\"#ff3000\",\"#ff2c00\",\"#ff2800\",\"#ff2500\",\"#ff2100\",\"#ff1d00\",\"#ff1a00\",\"#ff1600\",\"#fe1200\",\"#fa0f00\",\"#f50b00\",\"#f10700\",\"#ec0300\",\"#e80000\",\"#e30000\",\"#de0000\",\"#da0000\",\"#d50000\",\"#d10000\",\"#cc0000\",\"#c80000\",\"#c30000\",\"#bf0000\",\"#ba0000\",\"#b60000\",\"#b10000\",\"#ac0000\",\"#a80000\",\"#a30000\",\"#9f0000\",\"#9a0000\",\"#960000\",\"#910000\",\"#8d0000\",\"#880000\",\"#840000\",\"#7f0000\"]},\"id\":\"38688\",\"type\":\"LinearColorMapper\"},{\"attributes\":{\"line_alpha\":{\"field\":\"alpha\"},\"line_color\":{\"value\":\"red\"},\"line_width\":{\"value\":2},\"x0\":{\"field\":\"x0\"},\"x1\":{\"field\":\"x1\"},\"y0\":{\"field\":\"y0\"},\"y1\":{\"field\":\"y1\"}},\"id\":\"38705\",\"type\":\"Segment\"},{\"attributes\":{\"children\":[{\"id\":\"38641\"},{\"id\":\"38642\"},{\"id\":\"38643\"},{\"id\":\"38644\"},{\"id\":\"38645\"},{\"id\":\"38646\"},{\"id\":\"38647\"},{\"id\":\"38648\"}],\"margin\":[5,5,5,5],\"min_width\":700,\"name\":\"\",\"width\":700},\"id\":\"38640\",\"type\":\"Row\"}],\"root_ids\":[\"38637\",\"38896\"]},\"title\":\"Bokeh Application\",\"version\":\"2.4.1\"}};\n",
       "    var render_items = [{\"docid\":\"0ca6fae0-b7e8-4636-ab8f-d0d3d9b24977\",\"root_ids\":[\"38637\"],\"roots\":{\"38637\":\"6c2a8854-c54a-4810-a2d5-4772431ebe92\"}}];\n",
       "    root.Bokeh.embed.embed_items_notebook(docs_json, render_items);\n",
       "  }\n",
       "  if (root.Bokeh !== undefined && root.Bokeh.Panel !== undefined) {\n",
       "    embed_document(root);\n",
       "  } else {\n",
       "    var attempts = 0;\n",
       "    var timer = setInterval(function(root) {\n",
       "      if (root.Bokeh !== undefined && root.Bokeh.Panel !== undefined) {\n",
       "        clearInterval(timer);\n",
       "        embed_document(root);\n",
       "      } else if (document.readyState == \"complete\") {\n",
       "        attempts++;\n",
       "        if (attempts > 200) {\n",
       "          clearInterval(timer);\n",
       "          console.log(\"Bokeh: ERROR: Unable to run BokehJS code because BokehJS library is missing\");\n",
       "        }\n",
       "      }\n",
       "    }, 25, root)\n",
       "  }\n",
       "})(window);</script>"
      ],
      "text/plain": [
       "Column\n",
       "    [0] Column\n",
       "        [0] Column\n",
       "            [0] Row(margin=5, width=700)\n",
       "                [0] StaticText(value='<b></b>')\n",
       "                [1] Select(options=OrderedDict([('Component P...]), value=0)\n",
       "                [2] Select(options=OrderedDict([('PiYG', ...]), value='jet')\n",
       "                [3] Button(name='↶')\n",
       "                [4] Button(name='↷')\n",
       "                [5] Button(name='↔')\n",
       "                [6] Button(name='↕')\n",
       "                [7] Checkbox(name='interpolation')\n",
       "        [1] Row\n",
       "            [0] Column\n",
       "                [0] HoloViews(DynamicMap)\n",
       "            [1] Row\n",
       "                [0] Column\n",
       "                    [0] Column(margin=5, name='Component Planes', width=300)\n",
       "                        [0] StaticText(value='<b>Component Planes</b>')\n",
       "                        [1] IntSlider(end=2, name='1')\n",
       "                    [1] Str(str)\n",
       "    [1] Column\n",
       "        [0] Row()"
      ]
     },
     "execution_count": 178,
     "metadata": {
      "application/vnd.holoviews_exec.v0+json": {
       "id": "38637"
      }
     },
     "output_type": "execute_result"
    }
   ],
   "source": [
    "# Visualization by PySOMVis\n",
    "from pysomvis import PySOMVis\n",
    "\n",
    "vis = PySOMVis(weights=weights['arr'], m=weights['ydim'],n=weights['xdim'],\n",
    "                dimension=weights['vec_dim'], input_data=idata['arr'],\n",
    "                classes=classes['arr'][:,1], component_names=classes['classes_names'])\n",
    "vis._mainview"
   ]
  },
  {
   "cell_type": "code",
   "execution_count": 180,
   "id": "5c6d9d9e",
   "metadata": {},
   "outputs": [
    {
     "ename": "KeyboardInterrupt",
     "evalue": "",
     "output_type": "error",
     "traceback": [
      "\u001b[1;31m---------------------------------------------------------------------------\u001b[0m",
      "\u001b[1;31mKeyboardInterrupt\u001b[0m                         Traceback (most recent call last)",
      "\u001b[1;32m~\\AppData\\Local\\Temp/ipykernel_6040/2555920855.py\u001b[0m in \u001b[0;36m<module>\u001b[1;34m\u001b[0m\n\u001b[0;32m     13\u001b[0m     \u001b[0mdimensions\u001b[0m \u001b[1;33m=\u001b[0m \u001b[1;36m3\u001b[0m\u001b[1;33m\u001b[0m\u001b[1;33m\u001b[0m\u001b[0m\n\u001b[0;32m     14\u001b[0m \u001b[0msom\u001b[0m \u001b[1;33m=\u001b[0m \u001b[0mMiniSom\u001b[0m\u001b[1;33m(\u001b[0m\u001b[1;36m100\u001b[0m\u001b[1;33m,\u001b[0m \u001b[1;36m60\u001b[0m\u001b[1;33m,\u001b[0m \u001b[0mdimensions\u001b[0m\u001b[1;33m,\u001b[0m \u001b[0mlearning_rate\u001b[0m\u001b[1;33m=\u001b[0m\u001b[1;36m0.5\u001b[0m\u001b[1;33m)\u001b[0m\u001b[1;33m\u001b[0m\u001b[1;33m\u001b[0m\u001b[0m\n\u001b[1;32m---> 15\u001b[1;33m \u001b[0msom\u001b[0m\u001b[1;33m.\u001b[0m\u001b[0mtrain\u001b[0m\u001b[1;33m(\u001b[0m\u001b[0midata\u001b[0m\u001b[1;33m[\u001b[0m\u001b[1;34m'arr'\u001b[0m\u001b[1;33m]\u001b[0m\u001b[1;33m,\u001b[0m \u001b[1;36m70000\u001b[0m\u001b[1;33m)\u001b[0m\u001b[1;33m\u001b[0m\u001b[1;33m\u001b[0m\u001b[0m\n\u001b[0m\u001b[0;32m     16\u001b[0m \u001b[0msom\u001b[0m\u001b[1;33m.\u001b[0m\u001b[0mget_weights\u001b[0m\u001b[1;33m(\u001b[0m\u001b[1;33m)\u001b[0m\u001b[1;33m\u001b[0m\u001b[1;33m\u001b[0m\u001b[0m\n\u001b[0;32m     17\u001b[0m \u001b[0mwinner_coordinates\u001b[0m \u001b[1;33m=\u001b[0m \u001b[0msom\u001b[0m\u001b[1;33m.\u001b[0m\u001b[0mwin_map\u001b[0m\u001b[1;33m(\u001b[0m\u001b[0midata\u001b[0m\u001b[1;33m[\u001b[0m\u001b[1;34m'arr'\u001b[0m\u001b[1;33m]\u001b[0m\u001b[1;33m)\u001b[0m\u001b[1;33m\u001b[0m\u001b[1;33m\u001b[0m\u001b[0m\n",
      "\u001b[1;32me:\\OneDrive\\Studium\\11. Semester\\SoS\\sos-a3\\minisom.py\u001b[0m in \u001b[0;36mtrain\u001b[1;34m(self, data, num_iteration, random_order, verbose, use_epochs)\u001b[0m\n\u001b[0;32m    428\u001b[0m         \u001b[1;32mfor\u001b[0m \u001b[0mt\u001b[0m\u001b[1;33m,\u001b[0m \u001b[0miteration\u001b[0m \u001b[1;32min\u001b[0m \u001b[0menumerate\u001b[0m\u001b[1;33m(\u001b[0m\u001b[0miterations\u001b[0m\u001b[1;33m)\u001b[0m\u001b[1;33m:\u001b[0m\u001b[1;33m\u001b[0m\u001b[1;33m\u001b[0m\u001b[0m\n\u001b[0;32m    429\u001b[0m             \u001b[0mdecay_rate\u001b[0m \u001b[1;33m=\u001b[0m \u001b[0mget_decay_rate\u001b[0m\u001b[1;33m(\u001b[0m\u001b[0mt\u001b[0m\u001b[1;33m,\u001b[0m \u001b[0mlen\u001b[0m\u001b[1;33m(\u001b[0m\u001b[0mdata\u001b[0m\u001b[1;33m)\u001b[0m\u001b[1;33m)\u001b[0m\u001b[1;33m\u001b[0m\u001b[1;33m\u001b[0m\u001b[0m\n\u001b[1;32m--> 430\u001b[1;33m             self.update(data[iteration], self.winner(data[iteration]),\n\u001b[0m\u001b[0;32m    431\u001b[0m                         decay_rate, num_iteration)\n\u001b[0;32m    432\u001b[0m         \u001b[1;32mif\u001b[0m \u001b[0mverbose\u001b[0m\u001b[1;33m:\u001b[0m\u001b[1;33m\u001b[0m\u001b[1;33m\u001b[0m\u001b[0m\n",
      "\u001b[1;32me:\\OneDrive\\Studium\\11. Semester\\SoS\\sos-a3\\minisom.py\u001b[0m in \u001b[0;36mupdate\u001b[1;34m(self, x, win, t, max_iteration)\u001b[0m\n\u001b[0;32m    342\u001b[0m         \u001b[0mg\u001b[0m \u001b[1;33m=\u001b[0m \u001b[0mself\u001b[0m\u001b[1;33m.\u001b[0m\u001b[0mneighborhood\u001b[0m\u001b[1;33m(\u001b[0m\u001b[0mwin\u001b[0m\u001b[1;33m,\u001b[0m \u001b[0msig\u001b[0m\u001b[1;33m)\u001b[0m\u001b[1;33m*\u001b[0m\u001b[0meta\u001b[0m\u001b[1;33m\u001b[0m\u001b[1;33m\u001b[0m\u001b[0m\n\u001b[0;32m    343\u001b[0m         \u001b[1;31m# w_new = eta * neighborhood_function * (x-w)\u001b[0m\u001b[1;33m\u001b[0m\u001b[1;33m\u001b[0m\u001b[0m\n\u001b[1;32m--> 344\u001b[1;33m         \u001b[0mself\u001b[0m\u001b[1;33m.\u001b[0m\u001b[0m_weights\u001b[0m \u001b[1;33m+=\u001b[0m \u001b[0meinsum\u001b[0m\u001b[1;33m(\u001b[0m\u001b[1;34m'ij, ijk->ijk'\u001b[0m\u001b[1;33m,\u001b[0m \u001b[0mg\u001b[0m\u001b[1;33m,\u001b[0m \u001b[0mx\u001b[0m\u001b[1;33m-\u001b[0m\u001b[0mself\u001b[0m\u001b[1;33m.\u001b[0m\u001b[0m_weights\u001b[0m\u001b[1;33m)\u001b[0m\u001b[1;33m\u001b[0m\u001b[1;33m\u001b[0m\u001b[0m\n\u001b[0m\u001b[0;32m    345\u001b[0m \u001b[1;33m\u001b[0m\u001b[0m\n\u001b[0;32m    346\u001b[0m     \u001b[1;32mdef\u001b[0m \u001b[0mquantization\u001b[0m\u001b[1;33m(\u001b[0m\u001b[0mself\u001b[0m\u001b[1;33m,\u001b[0m \u001b[0mdata\u001b[0m\u001b[1;33m)\u001b[0m\u001b[1;33m:\u001b[0m\u001b[1;33m\u001b[0m\u001b[1;33m\u001b[0m\u001b[0m\n",
      "\u001b[1;31mKeyboardInterrupt\u001b[0m: "
     ]
    }
   ],
   "source": [
    "# Use any library for training SOM map (e.x. MiniSOM, SOMOClu, SOMpy, PopSOM etc.)\n",
    "from pysomvis import PySOMVis\n",
    "from minisom import MiniSom    \n",
    "import numpy as np\n",
    "from collections import Counter\n",
    "from sklearn.cluster import KMeans\n",
    "import matplotlib.pyplot as plt\n",
    "import pickle\n",
    "\n",
    "if dataset == \"10clusters\":\n",
    "    dimensions = 10\n",
    "else:\n",
    "    dimensions = 3\n",
    "som = MiniSom(100, 60, dimensions, learning_rate=0.5)\n",
    "som.train(idata['arr'], 100000)\n",
    "som.get_weights()\n",
    "winner_coordinates = som.win_map(idata['arr'])\n",
    "with open(f\"datasets/{dataset}/{dataset}_own.unit\", 'w') as file:\n",
    "    for neuron_index, input_vecs in winner_coordinates.items():\n",
    "        file.write(f\"$POS_X {neuron_index[0]}\\n\")\n",
    "        file.write(f\"$POS_Y {neuron_index[1]}\\n\")\n",
    "        file.write(f\"$NR_VEC_MAPPED {len(input_vecs)}\\n\")\n",
    "        file.write(f\"$MAPPED_VECS {len(input_vecs)}\\n\")\n",
    "        for vec in input_vecs:\n",
    "            file.write(f\"{' '.join(map(str,vec))}\\n\")\n",
    "#cluster_index = np.ravel_multi_index(winner_coordinates, (weights['xdim'], weights['ydim']))\n",
    "\n",
    "with open(f'datasets/{dataset}/som.p', 'wb') as outfile:\n",
    "    pickle.dump(som, outfile)\n",
    "\n",
    "\n",
    "vis = PySOMVis(weights=som._weights, input_data=idata['arr'])\n",
    "vis._mainview"
   ]
  }
 ],
 "metadata": {
  "kernelspec": {
   "display_name": "Python 3",
   "language": "python",
   "name": "python3"
  },
  "language_info": {
   "codemirror_mode": {
    "name": "ipython",
    "version": 3
   },
   "file_extension": ".py",
   "mimetype": "text/x-python",
   "name": "python",
   "nbconvert_exporter": "python",
   "pygments_lexer": "ipython3",
   "version": "3.9.11"
  },
  "vscode": {
   "interpreter": {
    "hash": "085c51388782ab7dcc7b32a500f9634129d1cddb82cd7a37058a5984251a0bc1"
   }
  }
 },
 "nbformat": 4,
 "nbformat_minor": 5
}
