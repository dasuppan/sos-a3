{
 "cells": [
  {
   "cell_type": "code",
   "execution_count": 138,
   "id": "c7cf75c3",
   "metadata": {},
   "outputs": [],
   "source": [
    "import numpy as np\n",
    "import pandas as pdcoding\n",
    "import gzip"
   ]
  },
  {
   "cell_type": "code",
   "execution_count": 139,
   "id": "a7c286f6",
   "metadata": {},
   "outputs": [],
   "source": [
    "#SOMToolbox Parser\n",
    "from SOMToolBox_Parse import SOMToolBox_Parse\n",
    "idata = SOMToolBox_Parse(\"datasets\\\\10clusters\\\\10clusters.vec\").read_weight_file()\n",
    "weights = SOMToolBox_Parse(\"datasets\\\\10clusters\\\\10clusters.wgt\").read_weight_file()\n",
    "#units holds all information about what input vectors are mapped to which unit\n",
    "units = SOMToolBox_Parse(\"datasets\\\\10clusters\\\\10clusters.unit\").read_unit_file()\n",
    "tv = SOMToolBox_Parse(\"datasets\\\\10clusters\\\\10clusters.tv\").read_tv_file()\n",
    "max_shown_values = 4\n"
   ]
  },
  {
   "cell_type": "code",
   "execution_count": 140,
   "id": "259a4e48",
   "metadata": {},
   "outputs": [],
   "source": [
    "from statistics import stdev, mean\n",
    "from math import pow\n",
    "\n",
    "def LabelSom(_m, _n, _weights, _idata, _units, _num_of_attr, std_threshold = None, mean_threshold = None, unitBased = True):\n",
    "    data = {}\n",
    "    arr = np.zeros( weights['ydim'] *  weights['xdim'], dtype=int).reshape(weights['ydim'],weights['xdim'])\n",
    "    for (x,y), unit in _units.items():\n",
    "        statistics = []\n",
    "        show_attr = []\n",
    "        for attr in range(_num_of_attr):\n",
    "            # Get all values of the the attr attribute for the current unit\n",
    "            attr_vals = list(map(lambda x: _idata[x - 1][attr] ,unit[\"mapped_vecs\"]))\n",
    "            if len(attr_vals) > 0:\n",
    "                statistics.append((mean(attr_vals), abs(stdev(attr_vals))))\n",
    "                if abs(stdev(attr_vals)) < std_threshold:\n",
    "                    show_attr.append(attr+1)\n",
    "                    #Encode if the attribute is under the threshold by using power of 2 \n",
    "                    # so we can decode it with binary and have a 1 on the attr-th place (reading from left to right)\n",
    "                    arr[x,y] += pow(2, _num_of_attr - attr) \n",
    "        data[(x,y)] = show_attr\n",
    "    \n",
    "    return arr.reshape(weights['ydim'],weights['xdim']) #data\n",
    "\n",
    "\n",
    "def get_label_string(tv, num, max_shown_values):\n",
    "    labels = []\n",
    "    for i, aktiv in enumerate(\"{0:b}\".format(num)):\n",
    "        if aktiv == \"1\":\n",
    "            labels.append(tv[int(i+1)])\n",
    "            if len(labels) > max_shown_values - 1:\n",
    "                break\n",
    "    return '\\n'.join(labels)\n",
    "             "
   ]
  },
  {
   "cell_type": "code",
   "execution_count": 148,
   "id": "72c32c12",
   "metadata": {},
   "outputs": [
    {
     "data": {
      "text/html": [
       "\n",
       "\n",
       "\n",
       "\n",
       "\n",
       "\n",
       "  <div class=\"bk-root\" id=\"65040abe-925a-4980-a403-8cf669bd700b\" data-root-id=\"22638\"></div>\n"
      ]
     },
     "metadata": {},
     "output_type": "display_data"
    },
    {
     "data": {
      "application/javascript": "(function(root) {\n  function embed_document(root) {\n    \n  const docs_json = {\"8aee7727-f771-4ca3-b43b-12701d4586d0\":{\"defs\":[{\"extends\":null,\"module\":null,\"name\":\"ReactiveHTML1\",\"overrides\":[],\"properties\":[]},{\"extends\":null,\"module\":null,\"name\":\"FlexBox1\",\"overrides\":[],\"properties\":[{\"default\":\"flex-start\",\"kind\":null,\"name\":\"align_content\"},{\"default\":\"flex-start\",\"kind\":null,\"name\":\"align_items\"},{\"default\":\"row\",\"kind\":null,\"name\":\"flex_direction\"},{\"default\":\"wrap\",\"kind\":null,\"name\":\"flex_wrap\"},{\"default\":\"flex-start\",\"kind\":null,\"name\":\"justify_content\"}]},{\"extends\":null,\"module\":null,\"name\":\"GridStack1\",\"overrides\":[],\"properties\":[{\"default\":\"warn\",\"kind\":null,\"name\":\"mode\"},{\"default\":null,\"kind\":null,\"name\":\"ncols\"},{\"default\":null,\"kind\":null,\"name\":\"nrows\"},{\"default\":true,\"kind\":null,\"name\":\"allow_resize\"},{\"default\":true,\"kind\":null,\"name\":\"allow_drag\"},{\"default\":[],\"kind\":null,\"name\":\"state\"}]},{\"extends\":null,\"module\":null,\"name\":\"click1\",\"overrides\":[],\"properties\":[{\"default\":\"\",\"kind\":null,\"name\":\"terminal_output\"},{\"default\":\"\",\"kind\":null,\"name\":\"debug_name\"},{\"default\":0,\"kind\":null,\"name\":\"clears\"}]},{\"extends\":null,\"module\":null,\"name\":\"TemplateActions1\",\"overrides\":[],\"properties\":[{\"default\":0,\"kind\":null,\"name\":\"open_modal\"},{\"default\":0,\"kind\":null,\"name\":\"close_modal\"}]},{\"extends\":null,\"module\":null,\"name\":\"MaterialTemplateActions1\",\"overrides\":[],\"properties\":[{\"default\":0,\"kind\":null,\"name\":\"open_modal\"},{\"default\":0,\"kind\":null,\"name\":\"close_modal\"}]}],\"roots\":{\"references\":[{\"attributes\":{\"below\":[{\"id\":\"22647\"}],\"center\":[{\"id\":\"22650\"},{\"id\":\"22654\"}],\"height\":300,\"left\":[{\"id\":\"22651\"}],\"margin\":null,\"min_border_bottom\":10,\"min_border_left\":10,\"min_border_right\":10,\"min_border_top\":10,\"renderers\":[{\"id\":\"22683\"},{\"id\":\"22693\"}],\"sizing_mode\":\"fixed\",\"title\":{\"id\":\"22639\"},\"toolbar\":{\"id\":\"22661\"},\"width\":300,\"x_range\":{\"id\":\"22636\"},\"x_scale\":{\"id\":\"22643\"},\"y_range\":{\"id\":\"22637\"},\"y_scale\":{\"id\":\"22645\"}},\"id\":\"22638\",\"subtype\":\"Figure\",\"type\":\"Plot\"},{\"attributes\":{\"angle\":{\"value\":0},\"text\":{\"field\":\"value\"},\"text_align\":{\"value\":\"center\"},\"text_alpha\":{\"value\":1.0},\"text_baseline\":{\"value\":\"middle\"},\"text_color\":{\"value\":\"black\"},\"text_font_size\":{\"value\":\"5pt\"},\"text_font_style\":{\"value\":\"normal\"},\"text_line_height\":{\"value\":1.2},\"x\":{\"field\":\"x\"},\"x_offset\":{\"value\":0},\"y\":{\"field\":\"y\"},\"y_offset\":{\"value\":0}},\"id\":\"22695\",\"type\":\"Text\"},{\"attributes\":{\"coordinates\":null,\"data_source\":{\"id\":\"22687\"},\"glyph\":{\"id\":\"22690\"},\"group\":null,\"hover_glyph\":null,\"muted_glyph\":{\"id\":\"22692\"},\"nonselection_glyph\":{\"id\":\"22691\"},\"selection_glyph\":{\"id\":\"22695\"},\"view\":{\"id\":\"22694\"}},\"id\":\"22693\",\"type\":\"GlyphRenderer\"},{\"attributes\":{\"color_mapper\":{\"id\":\"22673\"},\"dh\":{\"field\":\"dh\"},\"dw\":{\"field\":\"dw\"},\"global_alpha\":{\"value\":0.1},\"image\":{\"field\":\"image\"},\"x\":{\"field\":\"x\"},\"y\":{\"field\":\"y\"}},\"id\":\"22679\",\"type\":\"Image\"},{\"attributes\":{\"end\":0.5,\"reset_end\":0.5,\"reset_start\":-0.5,\"start\":-0.5,\"tags\":[[[\"x\",\"x\",null]]]},\"id\":\"22636\",\"type\":\"Range1d\"},{\"attributes\":{\"color_mapper\":{\"id\":\"22673\"},\"dh\":{\"field\":\"dh\"},\"dw\":{\"field\":\"dw\"},\"global_alpha\":{\"value\":0.2},\"image\":{\"field\":\"image\"},\"x\":{\"field\":\"x\"},\"y\":{\"field\":\"y\"}},\"id\":\"22681\",\"type\":\"Image\"},{\"attributes\":{},\"id\":\"22705\",\"type\":\"UnionRenderers\"},{\"attributes\":{\"coordinates\":null,\"group\":null},\"id\":\"22639\",\"type\":\"Title\"},{\"attributes\":{\"source\":{\"id\":\"22687\"}},\"id\":\"22694\",\"type\":\"CDSView\"},{\"attributes\":{\"tools\":[{\"id\":\"22655\"},{\"id\":\"22656\"},{\"id\":\"22657\"},{\"id\":\"22658\"},{\"id\":\"22659\"}]},\"id\":\"22661\",\"type\":\"Toolbar\"},{\"attributes\":{},\"id\":\"22648\",\"type\":\"BasicTicker\"},{\"attributes\":{\"axis\":{\"id\":\"22647\"},\"coordinates\":null,\"grid_line_color\":null,\"group\":null,\"ticker\":null},\"id\":\"22650\",\"type\":\"Grid\"},{\"attributes\":{\"color_mapper\":{\"id\":\"22673\"},\"dh\":{\"field\":\"dh\"},\"dw\":{\"field\":\"dw\"},\"global_alpha\":{\"value\":1.0},\"image\":{\"field\":\"image\"},\"x\":{\"field\":\"x\"},\"y\":{\"field\":\"y\"}},\"id\":\"22685\",\"type\":\"Image\"},{\"attributes\":{},\"id\":\"22671\",\"type\":\"BasicTickFormatter\"},{\"attributes\":{\"source\":{\"id\":\"22674\"}},\"id\":\"22684\",\"type\":\"CDSView\"},{\"attributes\":{},\"id\":\"22652\",\"type\":\"BasicTicker\"},{\"attributes\":{\"bottom_units\":\"screen\",\"coordinates\":null,\"fill_alpha\":0.5,\"fill_color\":\"lightgrey\",\"group\":null,\"left_units\":\"screen\",\"level\":\"overlay\",\"line_alpha\":1.0,\"line_color\":\"black\",\"line_dash\":[4,4],\"line_width\":2,\"right_units\":\"screen\",\"syncable\":false,\"top_units\":\"screen\"},\"id\":\"22660\",\"type\":\"BoxAnnotation\"},{\"attributes\":{\"data\":{\"value\":[\"comp_1\\ncomp_2\\ncomp_3\\ncomp_4\",\"\",\"comp_1\\ncomp_2\\ncomp_3\\ncomp_4\",\"\",\"\",\"\",\"\",\"\",\"\",\"\",\"\",\"\",\"\",\"\",\"\",\"\",\"\",\"\",\"comp_1\",\"\",\"comp_1\\ncomp_2\\ncomp_3\\ncomp_4\",\"\",\"\",\"\",\"\",\"\",\"\",\"\",\"\",\"\",\"\",\"\",\"\",\"\",\"comp_1\\ncomp_2\\ncomp_4\\ncomp_5\",\"\",\"\",\"\",\"\",\"\",\"\",\"\",\"\",\"\",\"\",\"\",\"\",\"\",\"\",\"\",\"\",\"\",\"comp_1\\ncomp_2\\ncomp_3\\ncomp_5\",\"comp_1\\ncomp_2\\ncomp_3\\ncomp_6\",\"\",\"\",\"comp_1\\ncomp_2\\ncomp_5\\ncomp_7\",\"\",\"\",\"\",\"\",\"\",\"\",\"\",\"\",\"\",\"\",\"\",\"\",\"\",\"comp_1\\ncomp_3\\ncomp_4\\ncomp_5\",\"\",\"\",\"\",\"\",\"\",\"\",\"\",\"\",\"comp_1\\ncomp_2\\ncomp_3\\ncomp_4\",\"comp_1\\ncomp_4\\ncomp_5\\ncomp_6\",\"comp_1\\ncomp_2\\ncomp_4\\ncomp_6\",\"\",\"\",\"\",\"\",\"\",\"\",\"comp_1\\ncomp_2\\ncomp_3\\ncomp_4\",\"comp_1\\ncomp_2\\ncomp_3\\ncomp_4\",\"\",\"comp_1\\ncomp_2\\ncomp_3\\ncomp_5\",\"\",\"\",\"comp_1\\ncomp_2\\ncomp_3\\ncomp_4\",\"\",\"\",\"\",\"comp_1\\ncomp_2\\ncomp_3\\ncomp_4\",\"comp_1\\ncomp_2\\ncomp_3\\ncomp_4\"],\"x\":{\"__ndarray__\":\"zczMzMzM3L/NzMzMzMzcv83MzMzMzNy/zczMzMzM3L/NzMzMzMzcv83MzMzMzNy/zczMzMzM3L/NzMzMzMzcv83MzMzMzNy/zczMzMzM3L9mZmZmZmbWv2ZmZmZmZta/ZmZmZmZm1r9mZmZmZmbWv2ZmZmZmZta/ZmZmZmZm1r9mZmZmZmbWv2ZmZmZmZta/ZmZmZmZm1r9mZmZmZmbWvwAAAAAAANC/AAAAAAAA0L8AAAAAAADQvwAAAAAAANC/AAAAAAAA0L8AAAAAAADQvwAAAAAAANC/AAAAAAAA0L8AAAAAAADQvwAAAAAAANC/MjMzMzMzw78yMzMzMzPDvzIzMzMzM8O/MjMzMzMzw78yMzMzMzPDvzIzMzMzM8O/MjMzMzMzw78yMzMzMzPDvzIzMzMzM8O/MjMzMzMzw7+YmZmZmZmpv5iZmZmZmam/mJmZmZmZqb+YmZmZmZmpv5iZmZmZmam/mJmZmZmZqb+YmZmZmZmpv5iZmZmZmam/mJmZmZmZqb+YmZmZmZmpv5iZmZmZmak/mJmZmZmZqT+YmZmZmZmpP5iZmZmZmak/mJmZmZmZqT+YmZmZmZmpP5iZmZmZmak/mJmZmZmZqT+YmZmZmZmpP5iZmZmZmak/NjMzMzMzwz82MzMzMzPDPzYzMzMzM8M/NjMzMzMzwz82MzMzMzPDPzYzMzMzM8M/NjMzMzMzwz82MzMzMzPDPzYzMzMzM8M/NjMzMzMzwz8BAAAAAADQPwEAAAAAANA/AQAAAAAA0D8BAAAAAADQPwEAAAAAANA/AQAAAAAA0D8BAAAAAADQPwEAAAAAANA/AQAAAAAA0D8BAAAAAADQP2dmZmZmZtY/Z2ZmZmZm1j9nZmZmZmbWP2dmZmZmZtY/Z2ZmZmZm1j9nZmZmZmbWP2dmZmZmZtY/Z2ZmZmZm1j9nZmZmZmbWP2dmZmZmZtY/zczMzMzM3D/NzMzMzMzcP83MzMzMzNw/zczMzMzM3D/NzMzMzMzcP83MzMzMzNw/zczMzMzM3D/NzMzMzMzcP83MzMzMzNw/zczMzMzM3D8=\",\"dtype\":\"float64\",\"order\":\"little\",\"shape\":[100]},\"y\":{\"__ndarray__\":\"zczMzMzM3L9mZmZmZmbWvwAAAAAAANC/MjMzMzMzw7+YmZmZmZmpv5iZmZmZmak/NjMzMzMzwz8BAAAAAADQP2dmZmZmZtY/zczMzMzM3D/NzMzMzMzcv2ZmZmZmZta/AAAAAAAA0L8yMzMzMzPDv5iZmZmZmam/mJmZmZmZqT82MzMzMzPDPwEAAAAAANA/Z2ZmZmZm1j/NzMzMzMzcP83MzMzMzNy/ZmZmZmZm1r8AAAAAAADQvzIzMzMzM8O/mJmZmZmZqb+YmZmZmZmpPzYzMzMzM8M/AQAAAAAA0D9nZmZmZmbWP83MzMzMzNw/zczMzMzM3L9mZmZmZmbWvwAAAAAAANC/MjMzMzMzw7+YmZmZmZmpv5iZmZmZmak/NjMzMzMzwz8BAAAAAADQP2dmZmZmZtY/zczMzMzM3D/NzMzMzMzcv2ZmZmZmZta/AAAAAAAA0L8yMzMzMzPDv5iZmZmZmam/mJmZmZmZqT82MzMzMzPDPwEAAAAAANA/Z2ZmZmZm1j/NzMzMzMzcP83MzMzMzNy/ZmZmZmZm1r8AAAAAAADQvzIzMzMzM8O/mJmZmZmZqb+YmZmZmZmpPzYzMzMzM8M/AQAAAAAA0D9nZmZmZmbWP83MzMzMzNw/zczMzMzM3L9mZmZmZmbWvwAAAAAAANC/MjMzMzMzw7+YmZmZmZmpv5iZmZmZmak/NjMzMzMzwz8BAAAAAADQP2dmZmZmZtY/zczMzMzM3D/NzMzMzMzcv2ZmZmZmZta/AAAAAAAA0L8yMzMzMzPDv5iZmZmZmam/mJmZmZmZqT82MzMzMzPDPwEAAAAAANA/Z2ZmZmZm1j/NzMzMzMzcP83MzMzMzNy/ZmZmZmZm1r8AAAAAAADQvzIzMzMzM8O/mJmZmZmZqb+YmZmZmZmpPzYzMzMzM8M/AQAAAAAA0D9nZmZmZmbWP83MzMzMzNw/zczMzMzM3L9mZmZmZmbWvwAAAAAAANC/MjMzMzMzw7+YmZmZmZmpv5iZmZmZmak/NjMzMzMzwz8BAAAAAADQP2dmZmZmZtY/zczMzMzM3D8=\",\"dtype\":\"float64\",\"order\":\"little\",\"shape\":[100]}},\"selected\":{\"id\":\"22688\"},\"selection_policy\":{\"id\":\"22705\"}},\"id\":\"22687\",\"type\":\"ColumnDataSource\"},{\"attributes\":{\"data\":{\"dh\":[1.0],\"dw\":[1.0],\"image\":[{\"__ndarray__\":\"/gcAAAAAAAD+AQAAAAAAAAAAAAAAAAAAAAAAAOwFAAD6BAAAAAAAAAAAAAAAAAAAAAAAAAAAAAAAAAAAAAAAAAAAAAAAAAAAvgYAAF4HAAD+AwAAAAAAAAAAAAAAAAAAAAAAAF4HAAAAAAAAAAAAAAAAAAAAAAAAAAAAAAAAAAAAAAAAAAAAAAAAAAAqBwAAAAAAAAAAAAAAAAAAAAAAAAAAAAAAAAAAAAAAAOgGAAAAAAAAAAAAAAAAAAAAAAAAAAAAAP4DAAAAAAAAAAAAAAAAAAAAAAAAAAAAAAAAAAAAAAAAAAAAAAAAAAAAAAAAAAAAAAAAAAAAAAAAAAAAAAAAAABYBgAAAAAAAAAAAAAAAAAAAAAAAAAAAAAAAAAAAAAAAAAAAAAAAAAAAAAAAAAAAAAAAAAAAAAAAAAAAAAAAAAAAAQAAAAAAAAAAAAAAAAAAAAAAAAAAAAAAAAAAP4HAAD+BwAAAAAAAAAAAAAAAAAAAAAAAAAAAAAAAAAAAAAAAP4HAAD+BwAA/gcAAA==\",\"dtype\":\"int32\",\"order\":\"little\",\"shape\":[10,10]}],\"x\":[-0.5],\"y\":[-0.5]},\"selected\":{\"id\":\"22675\"},\"selection_policy\":{\"id\":\"22703\"}},\"id\":\"22674\",\"type\":\"ColumnDataSource\"},{\"attributes\":{\"color_mapper\":{\"id\":\"22673\"},\"dh\":{\"field\":\"dh\"},\"dw\":{\"field\":\"dw\"},\"image\":{\"field\":\"image\"},\"x\":{\"field\":\"x\"},\"y\":{\"field\":\"y\"}},\"id\":\"22677\",\"type\":\"Image\"},{\"attributes\":{},\"id\":\"22659\",\"type\":\"ResetTool\"},{\"attributes\":{\"text\":{\"field\":\"value\"},\"text_align\":{\"value\":\"center\"},\"text_alpha\":{\"value\":1.0},\"text_baseline\":{\"value\":\"middle\"},\"text_color\":{\"value\":\"black\"},\"text_font_size\":{\"value\":\"5pt\"},\"x\":{\"field\":\"x\"},\"y\":{\"field\":\"y\"}},\"id\":\"22691\",\"type\":\"Text\"},{\"attributes\":{\"axis_label\":\"x\",\"coordinates\":null,\"formatter\":{\"id\":\"22668\"},\"group\":null,\"major_label_policy\":{\"id\":\"22669\"},\"ticker\":{\"id\":\"22648\"},\"visible\":false},\"id\":\"22647\",\"type\":\"LinearAxis\"},{\"attributes\":{\"high\":2046,\"low\":0,\"nan_color\":\"rgba(0, 0, 0, 0)\",\"palette\":[\"#b3fef5\"]},\"id\":\"22673\",\"type\":\"LinearColorMapper\"},{\"attributes\":{\"axis\":{\"id\":\"22651\"},\"coordinates\":null,\"dimension\":1,\"grid_line_color\":null,\"group\":null,\"ticker\":null},\"id\":\"22654\",\"type\":\"Grid\"},{\"attributes\":{},\"id\":\"22657\",\"type\":\"WheelZoomTool\"},{\"attributes\":{},\"id\":\"22656\",\"type\":\"PanTool\"},{\"attributes\":{\"text\":{\"field\":\"value\"},\"text_align\":{\"value\":\"center\"},\"text_alpha\":{\"value\":1.0},\"text_baseline\":{\"value\":\"middle\"},\"text_color\":{\"value\":\"black\"},\"text_font_size\":{\"value\":\"5pt\"},\"x\":{\"field\":\"x\"},\"y\":{\"field\":\"y\"}},\"id\":\"22692\",\"type\":\"Text\"},{\"attributes\":{},\"id\":\"22669\",\"type\":\"AllLabels\"},{\"attributes\":{\"text\":{\"field\":\"value\"},\"text_align\":{\"value\":\"center\"},\"text_baseline\":{\"value\":\"middle\"},\"text_color\":{\"value\":\"black\"},\"text_font_size\":{\"value\":\"5pt\"},\"x\":{\"field\":\"x\"},\"y\":{\"field\":\"y\"}},\"id\":\"22690\",\"type\":\"Text\"},{\"attributes\":{},\"id\":\"22655\",\"type\":\"SaveTool\"},{\"attributes\":{},\"id\":\"22643\",\"type\":\"LinearScale\"},{\"attributes\":{},\"id\":\"22645\",\"type\":\"LinearScale\"},{\"attributes\":{},\"id\":\"22703\",\"type\":\"UnionRenderers\"},{\"attributes\":{},\"id\":\"22688\",\"type\":\"Selection\"},{\"attributes\":{\"end\":0.5,\"reset_end\":0.5,\"reset_start\":-0.5,\"start\":-0.5,\"tags\":[[[\"y\",\"y\",null]]]},\"id\":\"22637\",\"type\":\"Range1d\"},{\"attributes\":{},\"id\":\"22675\",\"type\":\"Selection\"},{\"attributes\":{\"overlay\":{\"id\":\"22660\"}},\"id\":\"22658\",\"type\":\"BoxZoomTool\"},{\"attributes\":{},\"id\":\"22668\",\"type\":\"BasicTickFormatter\"},{\"attributes\":{\"axis_label\":\"y\",\"coordinates\":null,\"formatter\":{\"id\":\"22671\"},\"group\":null,\"major_label_policy\":{\"id\":\"22672\"},\"ticker\":{\"id\":\"22652\"},\"visible\":false},\"id\":\"22651\",\"type\":\"LinearAxis\"},{\"attributes\":{\"coordinates\":null,\"data_source\":{\"id\":\"22674\"},\"glyph\":{\"id\":\"22677\"},\"group\":null,\"hover_glyph\":null,\"muted_glyph\":{\"id\":\"22681\"},\"nonselection_glyph\":{\"id\":\"22679\"},\"selection_glyph\":{\"id\":\"22685\"},\"view\":{\"id\":\"22684\"}},\"id\":\"22683\",\"type\":\"GlyphRenderer\"},{\"attributes\":{},\"id\":\"22672\",\"type\":\"AllLabels\"}],\"root_ids\":[\"22638\"]},\"title\":\"Bokeh Application\",\"version\":\"2.4.1\"}};\n  const render_items = [{\"docid\":\"8aee7727-f771-4ca3-b43b-12701d4586d0\",\"root_ids\":[\"22638\"],\"roots\":{\"22638\":\"65040abe-925a-4980-a403-8cf669bd700b\"}}];\n  root.Bokeh.embed.embed_items_notebook(docs_json, render_items);\n\n  }\n  if (root.Bokeh !== undefined) {\n    embed_document(root);\n  } else {\n    let attempts = 0;\n    const timer = setInterval(function(root) {\n      if (root.Bokeh !== undefined) {\n        clearInterval(timer);\n        embed_document(root);\n      } else {\n        attempts++;\n        if (attempts > 100) {\n          clearInterval(timer);\n          console.log(\"Bokeh: ERROR: Unable to run BokehJS code because BokehJS library is missing\");\n        }\n      }\n    }, 10, root)\n  }\n})(window);",
      "application/vnd.bokehjs_exec.v0+json": ""
     },
     "metadata": {
      "application/vnd.bokehjs_exec.v0+json": {
       "id": "22638"
      }
     },
     "output_type": "display_data"
    }
   ],
   "source": [
    "import panel as pn\n",
    "import holoviews as hv\n",
    "from holoviews import opts\n",
    "from bokeh.plotting import show\n",
    "\n",
    "labelSom = LabelSom(weights['ydim'], weights['xdim'], weights['arr'], idata['arr'], units, idata['vec_dim'], 0.1)\n",
    "h = hv.Image(labelSom).opts(xaxis=None, yaxis=None,color_levels=1)\n",
    "hvdim_value = hv.Dimension(\"value\", value_format=lambda x: get_label_string(tv, x, max_shown_values))\n",
    "im = h * hv.Labels(h, vdims=hvdim_value).opts(\n",
    "    padding=0, text_color=\"black\", text_alpha=1.0, text_font_size=\"5pt\"\n",
    ").opts(xaxis=False, yaxis=False) \n",
    "\n",
    "show(hv.render(im))"
   ]
  }
 ],
 "metadata": {
  "kernelspec": {
   "display_name": "Python 3",
   "language": "python",
   "name": "python3"
  },
  "language_info": {
   "codemirror_mode": {
    "name": "ipython",
    "version": 3
   },
   "file_extension": ".py",
   "mimetype": "text/x-python",
   "name": "python",
   "nbconvert_exporter": "python",
   "pygments_lexer": "ipython3",
   "version": "3.9.11 (tags/v3.9.11:2de452f, Mar 16 2022, 14:33:45) [MSC v.1929 64 bit (AMD64)]"
  },
  "vscode": {
   "interpreter": {
    "hash": "085c51388782ab7dcc7b32a500f9634129d1cddb82cd7a37058a5984251a0bc1"
   }
  }
 },
 "nbformat": 4,
 "nbformat_minor": 5
}
